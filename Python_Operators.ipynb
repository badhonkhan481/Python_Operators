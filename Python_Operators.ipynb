{
 "cells": [
  {
   "cell_type": "code",
   "execution_count": 12,
   "id": "a2268985",
   "metadata": {},
   "outputs": [],
   "source": [
    "#Assinging the variables\n",
    "\n",
    "x=150\n",
    "y=15\n",
    "z=10"
   ]
  },
  {
   "cell_type": "code",
   "execution_count": 13,
   "id": "c93baec3",
   "metadata": {},
   "outputs": [
    {
     "data": {
      "text/plain": [
       "165"
      ]
     },
     "execution_count": 13,
     "metadata": {},
     "output_type": "execute_result"
    }
   ],
   "source": [
    "x+y"
   ]
  },
  {
   "cell_type": "code",
   "execution_count": 14,
   "id": "0eede6f8",
   "metadata": {},
   "outputs": [
    {
     "data": {
      "text/plain": [
       "10.0"
      ]
     },
     "execution_count": 14,
     "metadata": {},
     "output_type": "execute_result"
    }
   ],
   "source": [
    "x/y"
   ]
  },
  {
   "cell_type": "code",
   "execution_count": 15,
   "id": "f047d4f8",
   "metadata": {},
   "outputs": [
    {
     "data": {
      "text/plain": [
       "2250"
      ]
     },
     "execution_count": 15,
     "metadata": {},
     "output_type": "execute_result"
    }
   ],
   "source": [
    "x*y"
   ]
  },
  {
   "cell_type": "code",
   "execution_count": 16,
   "id": "be2fc663",
   "metadata": {},
   "outputs": [
    {
     "data": {
      "text/plain": [
       "4"
      ]
     },
     "execution_count": 16,
     "metadata": {},
     "output_type": "execute_result"
    }
   ],
   "source": [
    "2*2"
   ]
  },
  {
   "cell_type": "code",
   "execution_count": 17,
   "id": "8c529df3",
   "metadata": {},
   "outputs": [
    {
     "data": {
      "text/plain": [
       "135"
      ]
     },
     "execution_count": 17,
     "metadata": {},
     "output_type": "execute_result"
    }
   ],
   "source": [
    "x-y"
   ]
  },
  {
   "cell_type": "code",
   "execution_count": 18,
   "id": "7e768aaf",
   "metadata": {},
   "outputs": [
    {
     "data": {
      "text/plain": [
       "27"
      ]
     },
     "execution_count": 18,
     "metadata": {},
     "output_type": "execute_result"
    }
   ],
   "source": [
    "3**3  #exponentiation"
   ]
  },
  {
   "cell_type": "code",
   "execution_count": 19,
   "id": "87ad1c9d",
   "metadata": {},
   "outputs": [
    {
     "data": {
      "text/plain": [
       "10"
      ]
     },
     "execution_count": 19,
     "metadata": {},
     "output_type": "execute_result"
    }
   ],
   "source": [
    "x//y #floor division"
   ]
  },
  {
   "cell_type": "code",
   "execution_count": 20,
   "id": "c6b15a6e",
   "metadata": {},
   "outputs": [
    {
     "data": {
      "text/plain": [
       "0"
      ]
     },
     "execution_count": 20,
     "metadata": {},
     "output_type": "execute_result"
    }
   ],
   "source": [
    "x%y #modulas"
   ]
  },
  {
   "cell_type": "code",
   "execution_count": 21,
   "id": "a0943af7",
   "metadata": {},
   "outputs": [
    {
     "data": {
      "text/plain": [
       "10"
      ]
     },
     "execution_count": 21,
     "metadata": {},
     "output_type": "execute_result"
    }
   ],
   "source": [
    "import math\n",
    "math.floor(x/y)"
   ]
  },
  {
   "cell_type": "code",
   "execution_count": 22,
   "id": "ec3dbedb",
   "metadata": {},
   "outputs": [
    {
     "data": {
      "text/plain": [
       "10"
      ]
     },
     "execution_count": 22,
     "metadata": {},
     "output_type": "execute_result"
    }
   ],
   "source": [
    "math.ceil(x/y)"
   ]
  },
  {
   "cell_type": "code",
   "execution_count": 25,
   "id": "7904aa09",
   "metadata": {},
   "outputs": [
    {
     "data": {
      "text/plain": [
       "True"
      ]
     },
     "execution_count": 25,
     "metadata": {},
     "output_type": "execute_result"
    }
   ],
   "source": [
    "#python Identity Operators\n",
    "\n",
    "x=10\n",
    "y =10\n",
    "\n",
    "x is y"
   ]
  },
  {
   "cell_type": "code",
   "execution_count": 26,
   "id": "5202720b",
   "metadata": {},
   "outputs": [
    {
     "data": {
      "text/plain": [
       "True"
      ]
     },
     "execution_count": 26,
     "metadata": {},
     "output_type": "execute_result"
    }
   ],
   "source": [
    "x==y    #Comperasion "
   ]
  },
  {
   "cell_type": "code",
   "execution_count": 40,
   "id": "49b79e34",
   "metadata": {},
   "outputs": [],
   "source": [
    "x= 100017\n",
    "y=x\n",
    "z=100017"
   ]
  },
  {
   "cell_type": "code",
   "execution_count": 41,
   "id": "3342e73a",
   "metadata": {},
   "outputs": [
    {
     "data": {
      "text/plain": [
       "True"
      ]
     },
     "execution_count": 41,
     "metadata": {},
     "output_type": "execute_result"
    }
   ],
   "source": [
    "x is y"
   ]
  },
  {
   "cell_type": "code",
   "execution_count": 42,
   "id": "c56ae0df",
   "metadata": {},
   "outputs": [
    {
     "data": {
      "text/plain": [
       "False"
      ]
     },
     "execution_count": 42,
     "metadata": {},
     "output_type": "execute_result"
    }
   ],
   "source": [
    "x is z          # z is not assign in x"
   ]
  },
  {
   "cell_type": "code",
   "execution_count": 43,
   "id": "e126cd44",
   "metadata": {},
   "outputs": [
    {
     "data": {
      "text/plain": [
       "2918699675056"
      ]
     },
     "execution_count": 43,
     "metadata": {},
     "output_type": "execute_result"
    }
   ],
   "source": [
    "id(x)"
   ]
  },
  {
   "cell_type": "code",
   "execution_count": 44,
   "id": "d32d7af2",
   "metadata": {},
   "outputs": [
    {
     "data": {
      "text/plain": [
       "2918699675056"
      ]
     },
     "execution_count": 44,
     "metadata": {},
     "output_type": "execute_result"
    }
   ],
   "source": [
    "id(y)"
   ]
  },
  {
   "cell_type": "code",
   "execution_count": 45,
   "id": "9d5907a2",
   "metadata": {},
   "outputs": [
    {
     "data": {
      "text/plain": [
       "2918699673744"
      ]
     },
     "execution_count": 45,
     "metadata": {},
     "output_type": "execute_result"
    }
   ],
   "source": [
    "id(z)"
   ]
  },
  {
   "cell_type": "code",
   "execution_count": 46,
   "id": "0c505b0d",
   "metadata": {},
   "outputs": [
    {
     "data": {
      "text/plain": [
       "False"
      ]
     },
     "execution_count": 46,
     "metadata": {},
     "output_type": "execute_result"
    }
   ],
   "source": [
    "x is z"
   ]
  },
  {
   "cell_type": "code",
   "execution_count": 47,
   "id": "156c8f6a",
   "metadata": {},
   "outputs": [
    {
     "data": {
      "text/plain": [
       "True"
      ]
     },
     "execution_count": 47,
     "metadata": {},
     "output_type": "execute_result"
    }
   ],
   "source": [
    "x==z"
   ]
  },
  {
   "cell_type": "code",
   "execution_count": 48,
   "id": "782ba8be",
   "metadata": {},
   "outputs": [
    {
     "data": {
      "text/plain": [
       "True"
      ]
     },
     "execution_count": 48,
     "metadata": {},
     "output_type": "execute_result"
    }
   ],
   "source": [
    "x is not z"
   ]
  },
  {
   "cell_type": "code",
   "execution_count": 49,
   "id": "73e6759c",
   "metadata": {},
   "outputs": [
    {
     "data": {
      "text/plain": [
       "True"
      ]
     },
     "execution_count": 49,
     "metadata": {},
     "output_type": "execute_result"
    }
   ],
   "source": [
    "#Python Membership Operators\n",
    "\n",
    "list1={1,2,3,4,5,6,7}\n",
    "\n",
    "1 in list1"
   ]
  },
  {
   "cell_type": "code",
   "execution_count": 51,
   "id": "96bea933",
   "metadata": {},
   "outputs": [
    {
     "data": {
      "text/plain": [
       "False"
      ]
     },
     "execution_count": 51,
     "metadata": {},
     "output_type": "execute_result"
    }
   ],
   "source": [
    "10 in list1 # there 10 is not store in list1"
   ]
  },
  {
   "cell_type": "code",
   "execution_count": 52,
   "id": "b595f4bb",
   "metadata": {},
   "outputs": [
    {
     "data": {
      "text/plain": [
       "True"
      ]
     },
     "execution_count": 52,
     "metadata": {},
     "output_type": "execute_result"
    }
   ],
   "source": [
    "10 not in list1"
   ]
  },
  {
   "cell_type": "code",
   "execution_count": 53,
   "id": "8b37f731",
   "metadata": {},
   "outputs": [
    {
     "data": {
      "text/plain": [
       "True"
      ]
     },
     "execution_count": 53,
     "metadata": {},
     "output_type": "execute_result"
    }
   ],
   "source": [
    "s1 ={1,2,3}\n",
    "1 in s1"
   ]
  },
  {
   "cell_type": "code",
   "execution_count": 54,
   "id": "a75f6ac2",
   "metadata": {},
   "outputs": [],
   "source": [
    "st1 = 'Learn Data Science'"
   ]
  },
  {
   "cell_type": "code",
   "execution_count": 55,
   "id": "465dc8a0",
   "metadata": {},
   "outputs": [
    {
     "data": {
      "text/plain": [
       "False"
      ]
     },
     "execution_count": 55,
     "metadata": {},
     "output_type": "execute_result"
    }
   ],
   "source": [
    "'data' in st1"
   ]
  },
  {
   "cell_type": "code",
   "execution_count": 56,
   "id": "3e5fd108",
   "metadata": {},
   "outputs": [
    {
     "data": {
      "text/plain": [
       "True"
      ]
     },
     "execution_count": 56,
     "metadata": {},
     "output_type": "execute_result"
    }
   ],
   "source": [
    "'Data' in st1"
   ]
  },
  {
   "cell_type": "code",
   "execution_count": null,
   "id": "5f30a77e",
   "metadata": {},
   "outputs": [],
   "source": [
    "#Python Bitwise Operators\n",
    "\n",
    "x= 1010 #10 decimal \n",
    "y= 0101 #5 decimal\n",
    "x | y =1111\n",
    "x & y =0000"
   ]
  },
  {
   "cell_type": "code",
   "execution_count": 61,
   "id": "ed80fab0",
   "metadata": {},
   "outputs": [
    {
     "data": {
      "text/plain": [
       "15"
      ]
     },
     "execution_count": 61,
     "metadata": {},
     "output_type": "execute_result"
    }
   ],
   "source": [
    "x = 10\n",
    "y = 15\n",
    "\n",
    "x|y #OR"
   ]
  },
  {
   "cell_type": "code",
   "execution_count": 62,
   "id": "437c625e",
   "metadata": {},
   "outputs": [
    {
     "data": {
      "text/plain": [
       "10"
      ]
     },
     "execution_count": 62,
     "metadata": {},
     "output_type": "execute_result"
    }
   ],
   "source": [
    "x & y #AND"
   ]
  },
  {
   "cell_type": "code",
   "execution_count": 63,
   "id": "1dac3510",
   "metadata": {},
   "outputs": [
    {
     "data": {
      "text/plain": [
       "True"
      ]
     },
     "execution_count": 63,
     "metadata": {},
     "output_type": "execute_result"
    }
   ],
   "source": [
    "#Python Comparision Operations\n",
    "\n",
    "10 ==10"
   ]
  },
  {
   "cell_type": "markdown",
   "id": "cfa7c46c",
   "metadata": {},
   "source": [
    "10> 10"
   ]
  },
  {
   "cell_type": "code",
   "execution_count": 64,
   "id": "612f7267",
   "metadata": {},
   "outputs": [
    {
     "data": {
      "text/plain": [
       "True"
      ]
     },
     "execution_count": 64,
     "metadata": {},
     "output_type": "execute_result"
    }
   ],
   "source": [
    "10>=10"
   ]
  },
  {
   "cell_type": "code",
   "execution_count": 66,
   "id": "9ac847ea",
   "metadata": {},
   "outputs": [
    {
     "data": {
      "text/plain": [
       "False"
      ]
     },
     "execution_count": 66,
     "metadata": {},
     "output_type": "execute_result"
    }
   ],
   "source": [
    "10!=10"
   ]
  },
  {
   "cell_type": "code",
   "execution_count": 75,
   "id": "eee12c02",
   "metadata": {},
   "outputs": [
    {
     "data": {
      "text/plain": [
       "False"
      ]
     },
     "execution_count": 75,
     "metadata": {},
     "output_type": "execute_result"
    }
   ],
   "source": [
    "#Python Logical Operators\n",
    "\n",
    "10>4 and 10<3"
   ]
  },
  {
   "cell_type": "code",
   "execution_count": 76,
   "id": "de80539d",
   "metadata": {},
   "outputs": [
    {
     "data": {
      "text/plain": [
       "True"
      ]
     },
     "execution_count": 76,
     "metadata": {},
     "output_type": "execute_result"
    }
   ],
   "source": [
    "10>9 and 4<5"
   ]
  },
  {
   "cell_type": "code",
   "execution_count": 77,
   "id": "85ea03ba",
   "metadata": {},
   "outputs": [
    {
     "data": {
      "text/plain": [
       "True"
      ]
     },
     "execution_count": 77,
     "metadata": {},
     "output_type": "execute_result"
    }
   ],
   "source": [
    "10>4 or 10<3"
   ]
  },
  {
   "cell_type": "code",
   "execution_count": 79,
   "id": "60429faf",
   "metadata": {},
   "outputs": [
    {
     "data": {
      "text/plain": [
       "False"
      ]
     },
     "execution_count": 79,
     "metadata": {},
     "output_type": "execute_result"
    }
   ],
   "source": [
    "not(10>4 or 10<3)"
   ]
  },
  {
   "cell_type": "code",
   "execution_count": 86,
   "id": "2e21d5ef",
   "metadata": {},
   "outputs": [],
   "source": [
    "#Python Assignment Operators\n",
    "\n",
    "x=10\n",
    "y=12\n",
    "x+=4 # x=x+4\n"
   ]
  },
  {
   "cell_type": "code",
   "execution_count": 87,
   "id": "90d0c179",
   "metadata": {},
   "outputs": [
    {
     "data": {
      "text/plain": [
       "14"
      ]
     },
     "execution_count": 87,
     "metadata": {},
     "output_type": "execute_result"
    }
   ],
   "source": [
    "x"
   ]
  },
  {
   "cell_type": "code",
   "execution_count": 88,
   "id": "183b3059",
   "metadata": {},
   "outputs": [],
   "source": [
    "y+=x   #y=y+x"
   ]
  },
  {
   "cell_type": "code",
   "execution_count": 89,
   "id": "f6030895",
   "metadata": {},
   "outputs": [
    {
     "data": {
      "text/plain": [
       "26"
      ]
     },
     "execution_count": 89,
     "metadata": {},
     "output_type": "execute_result"
    }
   ],
   "source": [
    "y"
   ]
  },
  {
   "cell_type": "code",
   "execution_count": 94,
   "id": "c47c49dd",
   "metadata": {},
   "outputs": [],
   "source": [
    "x&=2"
   ]
  },
  {
   "cell_type": "code",
   "execution_count": 96,
   "id": "e1fdfd9c",
   "metadata": {},
   "outputs": [
    {
     "data": {
      "text/plain": [
       "0"
      ]
     },
     "execution_count": 96,
     "metadata": {},
     "output_type": "execute_result"
    }
   ],
   "source": [
    "x"
   ]
  },
  {
   "cell_type": "code",
   "execution_count": 100,
   "id": "0bb32318",
   "metadata": {},
   "outputs": [],
   "source": [
    "k=15\n",
    "k<<=3 #x=x<<3"
   ]
  },
  {
   "cell_type": "code",
   "execution_count": 101,
   "id": "6d72243e",
   "metadata": {},
   "outputs": [
    {
     "data": {
      "text/plain": [
       "120"
      ]
     },
     "execution_count": 101,
     "metadata": {},
     "output_type": "execute_result"
    }
   ],
   "source": [
    "k"
   ]
  },
  {
   "cell_type": "code",
   "execution_count": null,
   "id": "7d45abe7",
   "metadata": {},
   "outputs": [],
   "source": []
  }
 ],
 "metadata": {
  "kernelspec": {
   "display_name": "Python 3 (ipykernel)",
   "language": "python",
   "name": "python3"
  },
  "language_info": {
   "codemirror_mode": {
    "name": "ipython",
    "version": 3
   },
   "file_extension": ".py",
   "mimetype": "text/x-python",
   "name": "python",
   "nbconvert_exporter": "python",
   "pygments_lexer": "ipython3",
   "version": "3.9.13"
  }
 },
 "nbformat": 4,
 "nbformat_minor": 5
}
